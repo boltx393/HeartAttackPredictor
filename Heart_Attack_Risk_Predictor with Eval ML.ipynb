{
  "cells": [
    {
      "cell_type": "markdown",
      "id": "586110d3",
      "metadata": {
        "id": "586110d3"
      },
      "source": [
        "## Project Name: Heart Attack Risk Predictor"
      ]
    },
    {
      "attachments": {},
      "cell_type": "markdown",
      "id": "6b2d7be0",
      "metadata": {
        "id": "6b2d7be0"
      },
      "source": [
        "### In this project we will Make an app which will help us predict the risk of a Heart Attack a person have.\n",
        "### We will do use various Algorithms to predict the result and see which one suits best and then we will use Auto ML Library EVAL ML to predict the results."
      ]
    },
    {
      "cell_type": "markdown",
      "id": "6df5fab5",
      "metadata": {
        "id": "6df5fab5"
      },
      "source": [
        "### We will do the following things:\n",
        "- Data Analysis \n",
        "- Feature Engineering \n",
        "- Satandardization\n",
        "- Model Building\n",
        "- Predictions"
      ]
    },
    {
      "cell_type": "markdown",
      "id": "08b96f4d",
      "metadata": {
        "id": "08b96f4d"
      },
      "source": [
        "### Let us import the necessary liabraries and read our DataSet"
      ]
    },
    {
      "cell_type": "code",
      "execution_count": null,
      "id": "f72300d8",
      "metadata": {
        "id": "f72300d8"
      },
      "outputs": [],
      "source": [
        "import pandas as pd\n",
        "import numpy as np\n",
        "import seaborn as sns\n",
        "import matplotlib.pyplot as plt\n",
        "%matplotlib inline"
      ]
    },
    {
      "cell_type": "markdown",
      "id": "5CXI4si_IxVf",
      "metadata": {
        "id": "5CXI4si_IxVf"
      },
      "source": [
        "Let us import our Data Set\n"
      ]
    },
    {
      "cell_type": "code",
      "execution_count": null,
      "id": "e6cb5e53",
      "metadata": {
        "id": "e6cb5e53"
      },
      "outputs": [],
      "source": [
        "df = pd.read_csv(\"./heart.csv\")"
      ]
    },
    {
      "cell_type": "code",
      "execution_count": null,
      "id": "1349056e",
      "metadata": {
        "id": "1349056e"
      },
      "outputs": [],
      "source": [
        "df= df.drop(['oldpeak','slp','thall'],axis=1)"
      ]
    },
    {
      "cell_type": "code",
      "execution_count": null,
      "id": "d9fde664",
      "metadata": {
        "colab": {
          "base_uri": "https://localhost:8080/",
          "height": 203
        },
        "id": "d9fde664",
        "outputId": "95b17ffa-b055-402a-c9ba-5a31d9d9e983"
      },
      "outputs": [],
      "source": [
        "df.head()"
      ]
    },
    {
      "cell_type": "markdown",
      "id": "4cb8b4ce",
      "metadata": {
        "id": "4cb8b4ce"
      },
      "source": [
        "### Data Analysis"
      ]
    },
    {
      "cell_type": "markdown",
      "id": "472de7e9",
      "metadata": {
        "id": "472de7e9"
      },
      "source": [
        "### Understanding our DataSet:\n",
        "\n",
        "#### Age : Age of the patient\n",
        "\n",
        "#### Sex : Sex of the patient\n",
        "\n",
        "#### exang: exercise induced angina (1 = yes; 0 = no)\n",
        "\n",
        "#### ca: number of major vessels (0-3)\n",
        "\n",
        "#### cp : Chest Pain type chest pain type\n",
        "\n",
        "- Value 0: typical angina\n",
        "- Value 1: atypical angina\n",
        "- Value 2: non-anginal pain\n",
        "- Value 3: asymptomatic\n",
        "\n",
        "#### trtbps : resting blood pressure (in mm Hg)\n",
        "\n",
        "#### chol : cholestoral in mg/dl fetched via BMI sensor\n",
        "\n",
        "#### fbs : (fasting blood sugar > 120 mg/dl) (1 = true; 0 = false)\n",
        "\n",
        "#### rest_ecg : resting electrocardiographic results\n",
        "\n",
        "- Value 0: normal\n",
        "- Value 1: having ST-T wave abnormality (T wave inversions and/or ST elevation or depression of > 0.05 mV)\n",
        "- Value 2: showing probable or definite left ventricular hypertrophy by Estes' criteria\n",
        "\n",
        "#### thalach : maximum heart rate achieved\n",
        "\n",
        "#### target : 0= less chance of heart attack 1= more chance of heart attack"
      ]
    },
    {
      "cell_type": "code",
      "execution_count": null,
      "id": "0698754a",
      "metadata": {
        "colab": {
          "base_uri": "https://localhost:8080/"
        },
        "id": "0698754a",
        "outputId": "4624ebed-24c0-4e09-8cd2-1fac140a8b85"
      },
      "outputs": [],
      "source": [
        "df.shape"
      ]
    },
    {
      "cell_type": "code",
      "execution_count": null,
      "id": "52f8abdf",
      "metadata": {
        "colab": {
          "base_uri": "https://localhost:8080/"
        },
        "id": "52f8abdf",
        "outputId": "53eea747-11e7-41b3-dfe3-e14be428a795"
      },
      "outputs": [],
      "source": [
        "df.isnull().sum()"
      ]
    },
    {
      "cell_type": "markdown",
      "id": "a6f052bc",
      "metadata": {
        "id": "a6f052bc"
      },
      "source": [
        "#### As we can see there are no null values in our Data Set"
      ]
    },
    {
      "cell_type": "code",
      "execution_count": null,
      "id": "694f1482",
      "metadata": {
        "colab": {
          "base_uri": "https://localhost:8080/",
          "height": 388
        },
        "id": "694f1482",
        "outputId": "80644f8a-b63d-45ce-c70c-23182b08663a"
      },
      "outputs": [],
      "source": [
        "df.corr()"
      ]
    },
    {
      "cell_type": "code",
      "execution_count": null,
      "id": "c5f26e03",
      "metadata": {
        "colab": {
          "base_uri": "https://localhost:8080/",
          "height": 320
        },
        "id": "c5f26e03",
        "outputId": "951191ed-65e7-4e34-873a-90f9beb2fce9"
      },
      "outputs": [],
      "source": [
        "sns.heatmap(df.corr())"
      ]
    },
    {
      "cell_type": "markdown",
      "id": "ba18baf7",
      "metadata": {
        "id": "ba18baf7"
      },
      "source": [
        "#### As we can see our variables are not highly correlated to each other "
      ]
    },
    {
      "cell_type": "markdown",
      "id": "e803c86f",
      "metadata": {
        "id": "e803c86f"
      },
      "source": [
        "#### We will do Uni and Bi variate analysis on our Features"
      ]
    },
    {
      "cell_type": "code",
      "execution_count": null,
      "id": "ad608f85",
      "metadata": {
        "colab": {
          "base_uri": "https://localhost:8080/",
          "height": 638
        },
        "id": "ad608f85",
        "outputId": "33e7723b-59d3-4739-8f0a-ec9d930e111e"
      },
      "outputs": [],
      "source": [
        "\n",
        "plt.figure(figsize=(20, 10))\n",
        "plt.title(\"Age of Patients\")\n",
        "plt.xlabel(\"Age\")\n",
        "sns.countplot(x='age',data=df)"
      ]
    },
    {
      "cell_type": "markdown",
      "id": "109a21cd",
      "metadata": {
        "id": "109a21cd"
      },
      "source": [
        "#### As we can see the Patients are of Age Group 51-67years in majority"
      ]
    },
    {
      "cell_type": "code",
      "execution_count": null,
      "id": "ccf1760c",
      "metadata": {
        "colab": {
          "base_uri": "https://localhost:8080/",
          "height": 638
        },
        "id": "ccf1760c",
        "outputId": "47a83ba3-62f5-46a1-d89b-b0b042de490e"
      },
      "outputs": [],
      "source": [
        "plt.figure(figsize=(20, 10))\n",
        "plt.title(\"Sex of Patients,0=Female and 1=Male\")\n",
        "\n",
        "sns.countplot(x='sex',data=df)"
      ]
    },
    {
      "cell_type": "code",
      "execution_count": null,
      "id": "15918288",
      "metadata": {
        "colab": {
          "base_uri": "https://localhost:8080/",
          "height": 424
        },
        "id": "15918288",
        "outputId": "21a60d94-2569-472c-a138-fabf4b8658a9"
      },
      "outputs": [],
      "source": [
        "cp_data = df['cp'].value_counts().reset_index()\n",
        "cp_data.columns = ['cp', 'count']  \n",
        "cp_data.loc[cp_data.index == 3, 'cp'] = 'asymptomatic'\n",
        "cp_data.loc[cp_data.index == 2, 'cp'] = 'non-anginal'\n",
        "cp_data.loc[cp_data.index == 1, 'cp'] = 'Atypical Angina'\n",
        "cp_data.loc[cp_data.index == 0, 'cp'] = 'Typical Angina'\n",
        "cp_data\n"
      ]
    },
    {
      "cell_type": "code",
      "execution_count": null,
      "id": "ec3f30f3",
      "metadata": {
        "colab": {
          "base_uri": "https://localhost:8080/",
          "height": 638
        },
        "id": "ec3f30f3",
        "outputId": "f9790d1f-942f-41f7-fb12-22d835fc3781"
      },
      "outputs": [],
      "source": [
        "plt.figure(figsize=(20, 10))\n",
        "plt.title(\"Chest Pain of Patients\")\n",
        "\n",
        "sns.barplot(x=cp_data['cp'], y=cp_data['count'])\n",
        "\n",
        "plt.xlabel(\"Chest Pain Type\")\n",
        "plt.ylabel(\"Count\")\n",
        "plt.show()"
      ]
    },
    {
      "cell_type": "markdown",
      "id": "4f5e6a02",
      "metadata": {
        "id": "4f5e6a02"
      },
      "source": [
        "#### We have seen how the the Chest Pain Category is distributed"
      ]
    },
    {
      "cell_type": "code",
      "execution_count": null,
      "id": "bc63868c",
      "metadata": {
        "colab": {
          "base_uri": "https://localhost:8080/",
          "height": 310
        },
        "id": "bc63868c",
        "outputId": "1a12cefd-998a-415c-cfb6-f2659f91fb25"
      },
      "outputs": [],
      "source": [
        "ecg_data = df['restecg'].value_counts().reset_index()\n",
        "ecg_data.columns = ['restecg', 'count']  # Renaming the columns\n",
        "ecg_data.loc[ecg_data.index == 0, 'restecg'] = 'normal'\n",
        "ecg_data.loc[ecg_data.index == 1, 'restecg'] = 'having ST-T wave abnormality'\n",
        "ecg_data.loc[ecg_data.index == 2, 'restecg'] = 'showing probable or definite left ventricular hypertrophy by Estes'\n",
        "\n",
        "ecg_data\n"
      ]
    },
    {
      "cell_type": "code",
      "execution_count": null,
      "id": "952546df",
      "metadata": {
        "colab": {
          "base_uri": "https://localhost:8080/",
          "height": 638
        },
        "id": "952546df",
        "outputId": "2b9f99a5-75fc-4c49-d40f-6260cf9bc919"
      },
      "outputs": [],
      "source": [
        "plt.figure(figsize=(20, 10))\n",
        "plt.title(\"ECG data of Patients\")\n",
        "sns.barplot(x=ecg_data['restecg'], y=ecg_data['count'])"
      ]
    },
    {
      "cell_type": "markdown",
      "id": "dbd88902",
      "metadata": {
        "id": "dbd88902"
      },
      "source": [
        "#### This is our ECG Data "
      ]
    },
    {
      "cell_type": "code",
      "execution_count": null,
      "id": "d2729fa6",
      "metadata": {
        "colab": {
          "base_uri": "https://localhost:8080/",
          "height": 1000
        },
        "id": "d2729fa6",
        "outputId": "889d7ee7-8280-4c4e-b4db-20c1ae94a579"
      },
      "outputs": [],
      "source": [
        "sns.pairplot(df, hue='output')\n",
        "plt.show()"
      ]
    },
    {
      "cell_type": "markdown",
      "id": "33824ea2",
      "metadata": {
        "id": "33824ea2"
      },
      "source": [
        "### Let us see for our Continuous Variable"
      ]
    },
    {
      "cell_type": "code",
      "execution_count": null,
      "id": "443e8fa2",
      "metadata": {
        "colab": {
          "base_uri": "https://localhost:8080/",
          "height": 710
        },
        "id": "443e8fa2",
        "outputId": "68fb3b0a-1a01-4f94-c2fa-71692efbe289"
      },
      "outputs": [],
      "source": [
        "plt.figure(figsize=(20,10))\n",
        "plt.subplot(1,2,1)\n",
        "sns.distplot(df['trtbps'], kde=True, color = 'magenta')\n",
        "plt.xlabel(\"Resting Blood Pressure (mmHg)\")\n",
        "plt.subplot(1,2,2)\n",
        "sns.distplot(df['thalachh'], kde=True, color = 'teal')\n",
        "plt.xlabel(\"Maximum Heart Rate Achieved (bpm)\")"
      ]
    },
    {
      "cell_type": "code",
      "execution_count": null,
      "id": "518bd367",
      "metadata": {
        "id": "518bd367",
        "outputId": "2c573d71-2318-4789-e1a9-a3f1eb3089cb"
      },
      "outputs": [],
      "source": [
        "plt.figure(figsize=(10,10))\n",
        "sns.distplot(df['chol'], kde=True, color = 'red')\n",
        "plt.xlabel(\"Cholestrol\")"
      ]
    },
    {
      "cell_type": "markdown",
      "id": "97d4b41f",
      "metadata": {
        "id": "97d4b41f"
      },
      "source": [
        "#### We have done the Analysis of the data now let's have a look at out data"
      ]
    },
    {
      "cell_type": "code",
      "execution_count": null,
      "id": "75b7813d",
      "metadata": {
        "colab": {
          "base_uri": "https://localhost:8080/",
          "height": 203
        },
        "id": "75b7813d",
        "outputId": "56528a53-4294-47de-84af-9f97e6592910"
      },
      "outputs": [],
      "source": [
        "df.head()"
      ]
    },
    {
      "cell_type": "markdown",
      "id": "bfcbd7fd",
      "metadata": {
        "id": "bfcbd7fd"
      },
      "source": [
        "### Let us do Standardisation"
      ]
    },
    {
      "cell_type": "code",
      "execution_count": null,
      "id": "d6b97947",
      "metadata": {
        "id": "d6b97947"
      },
      "outputs": [],
      "source": [
        "from sklearn.preprocessing import StandardScaler"
      ]
    },
    {
      "cell_type": "code",
      "execution_count": null,
      "id": "2e12e343",
      "metadata": {
        "id": "2e12e343"
      },
      "outputs": [],
      "source": [
        "scale=StandardScaler()"
      ]
    },
    {
      "cell_type": "code",
      "execution_count": null,
      "id": "cc1cc92a",
      "metadata": {
        "colab": {
          "base_uri": "https://localhost:8080/"
        },
        "id": "cc1cc92a",
        "outputId": "3c0e5f1f-89d9-4566-b7de-2d907c9077ad"
      },
      "outputs": [],
      "source": [
        "scale.fit(df)"
      ]
    },
    {
      "cell_type": "code",
      "execution_count": null,
      "id": "f68a5733",
      "metadata": {
        "id": "f68a5733"
      },
      "outputs": [],
      "source": [
        "df= scale.transform(df)"
      ]
    },
    {
      "cell_type": "code",
      "execution_count": null,
      "id": "9f317d38",
      "metadata": {
        "id": "9f317d38"
      },
      "outputs": [],
      "source": [
        "df=pd.DataFrame(df,columns=['age', 'sex', 'cp', 'trtbps', 'chol', 'fbs', 'restecg', 'thalachh',\n",
        "       'exng', 'caa', 'output'])"
      ]
    },
    {
      "cell_type": "code",
      "execution_count": null,
      "id": "0e9b06a0",
      "metadata": {
        "colab": {
          "base_uri": "https://localhost:8080/",
          "height": 203
        },
        "id": "0e9b06a0",
        "outputId": "493331e0-8f94-4ff4-ddbd-b3607e894447"
      },
      "outputs": [],
      "source": [
        "df.head()"
      ]
    },
    {
      "cell_type": "markdown",
      "id": "6fd43730",
      "metadata": {
        "id": "6fd43730"
      },
      "source": [
        "### We can insert this data into our ML Models"
      ]
    },
    {
      "cell_type": "markdown",
      "id": "0147cea1",
      "metadata": {
        "id": "0147cea1"
      },
      "source": [
        "### We will use the following models for our predictions :\n",
        "- Logistic Regression\n",
        "- Decision Tree\n",
        "- Random Forest\n",
        "- K Nearest Neighbour\n",
        "- SVM"
      ]
    },
    {
      "cell_type": "markdown",
      "id": "963be798",
      "metadata": {
        "id": "963be798"
      },
      "source": [
        "#### Then we will use the ensembling techniques"
      ]
    },
    {
      "cell_type": "markdown",
      "id": "fad2b3a9",
      "metadata": {
        "id": "fad2b3a9"
      },
      "source": [
        "#### Let us split our data"
      ]
    },
    {
      "cell_type": "code",
      "execution_count": null,
      "id": "3cd4472e",
      "metadata": {
        "colab": {
          "base_uri": "https://localhost:8080/",
          "height": 417
        },
        "id": "3cd4472e",
        "outputId": "e273cdc4-2704-40f3-f666-1f4b760e7d65",
        "scrolled": true
      },
      "outputs": [],
      "source": [
        "x= df.iloc[:,:-1]\n",
        "x"
      ]
    },
    {
      "cell_type": "code",
      "execution_count": null,
      "id": "9e74c14d",
      "metadata": {
        "colab": {
          "base_uri": "https://localhost:8080/",
          "height": 417
        },
        "id": "9e74c14d",
        "outputId": "2cb5766e-32ea-47d4-c602-09fc09223983"
      },
      "outputs": [],
      "source": [
        "y= df.iloc[:,-1:]\n",
        "y"
      ]
    },
    {
      "cell_type": "code",
      "execution_count": null,
      "id": "ab1a11ab",
      "metadata": {
        "id": "ab1a11ab"
      },
      "outputs": [],
      "source": [
        "from sklearn.model_selection import train_test_split\n",
        "x_train, x_test, y_train, y_test = train_test_split(x, y, test_size=0.3, random_state=101)"
      ]
    },
    {
      "cell_type": "markdown",
      "id": "f47afe1c",
      "metadata": {
        "id": "f47afe1c"
      },
      "source": [
        "### Logistic Regression"
      ]
    },
    {
      "cell_type": "code",
      "execution_count": null,
      "id": "bc365e9f",
      "metadata": {
        "id": "bc365e9f"
      },
      "outputs": [],
      "source": [
        "from sklearn.linear_model import LogisticRegression"
      ]
    },
    {
      "cell_type": "code",
      "execution_count": null,
      "id": "6725ab38",
      "metadata": {
        "id": "6725ab38"
      },
      "outputs": [],
      "source": [
        "from sklearn.preprocessing import LabelEncoder"
      ]
    },
    {
      "cell_type": "code",
      "execution_count": null,
      "id": "fd145d4b",
      "metadata": {
        "id": "fd145d4b"
      },
      "outputs": [],
      "source": [
        "lbl= LabelEncoder()"
      ]
    },
    {
      "cell_type": "code",
      "execution_count": null,
      "id": "fc0b7f0e",
      "metadata": {
        "colab": {
          "base_uri": "https://localhost:8080/"
        },
        "id": "fc0b7f0e",
        "outputId": "ee7cd86c-fe2f-4895-823d-2b128d7233a1"
      },
      "outputs": [],
      "source": [
        "encoded_y= lbl.fit_transform(y_train)"
      ]
    },
    {
      "cell_type": "code",
      "execution_count": null,
      "id": "95c072a3",
      "metadata": {
        "id": "95c072a3"
      },
      "outputs": [],
      "source": [
        "logreg= LogisticRegression()"
      ]
    },
    {
      "cell_type": "code",
      "execution_count": null,
      "id": "490ec8eb",
      "metadata": {
        "colab": {
          "base_uri": "https://localhost:8080/"
        },
        "id": "490ec8eb",
        "outputId": "688a6fa2-d60e-4ffa-d773-b10b6ba0aa4d",
        "scrolled": true
      },
      "outputs": [],
      "source": [
        "logreg = LogisticRegression()\n",
        "logreg.fit(x_train, encoded_y)\n"
      ]
    },
    {
      "cell_type": "code",
      "execution_count": null,
      "id": "2384501a",
      "metadata": {
        "colab": {
          "base_uri": "https://localhost:8080/"
        },
        "id": "2384501a",
        "outputId": "075cb913-b762-4592-e3e9-e4b3ee19c63d"
      },
      "outputs": [],
      "source": [
        "# Y_pred1"
      ]
    },
    {
      "cell_type": "code",
      "execution_count": null,
      "id": "d9c6fe4d",
      "metadata": {
        "id": "d9c6fe4d"
      },
      "outputs": [],
      "source": [
        "from sklearn.metrics import accuracy_score\n",
        "from sklearn.metrics import confusion_matrix"
      ]
    },
    {
      "cell_type": "code",
      "execution_count": null,
      "id": "4c54745b",
      "metadata": {
        "colab": {
          "base_uri": "https://localhost:8080/"
        },
        "id": "4c54745b",
        "outputId": "fdf284be-f847-4dd4-e8bd-b5f9fa7b7048"
      },
      "outputs": [],
      "source": [
        "encoded_ytest= lbl.fit_transform(y_test)"
      ]
    },
    {
      "cell_type": "code",
      "execution_count": null,
      "id": "cc384c82",
      "metadata": {
        "id": "cc384c82"
      },
      "outputs": [],
      "source": [
        "Y_pred1 = logreg.predict(x_test)\n",
        "lr_conf_matrix = confusion_matrix(encoded_ytest,Y_pred1 )\n",
        "lr_acc_score = accuracy_score(encoded_ytest, Y_pred1)"
      ]
    },
    {
      "cell_type": "code",
      "execution_count": null,
      "id": "2575b911",
      "metadata": {
        "colab": {
          "base_uri": "https://localhost:8080/"
        },
        "id": "2575b911",
        "outputId": "a742efad-15d2-460d-9684-6424dcddaee5"
      },
      "outputs": [],
      "source": [
        "lr_conf_matrix"
      ]
    },
    {
      "cell_type": "code",
      "execution_count": null,
      "id": "21fe65ca",
      "metadata": {
        "colab": {
          "base_uri": "https://localhost:8080/"
        },
        "id": "21fe65ca",
        "outputId": "43fe8134-01d8-443a-9075-ccdc0a142d82"
      },
      "outputs": [],
      "source": [
        "print(lr_acc_score*100,\"%\")"
      ]
    },
    {
      "cell_type": "markdown",
      "id": "e1489812",
      "metadata": {
        "id": "e1489812"
      },
      "source": [
        "#### As we see the Logistic Regression Model have a 85% accuracy"
      ]
    },
    {
      "cell_type": "markdown",
      "id": "91d30976",
      "metadata": {
        "id": "91d30976"
      },
      "source": [
        "### Decision Tree"
      ]
    },
    {
      "cell_type": "code",
      "execution_count": null,
      "id": "57fd0f6f",
      "metadata": {
        "id": "57fd0f6f"
      },
      "outputs": [],
      "source": [
        "from sklearn.tree import DecisionTreeClassifier"
      ]
    },
    {
      "cell_type": "code",
      "execution_count": null,
      "id": "272dc52b",
      "metadata": {
        "id": "272dc52b"
      },
      "outputs": [],
      "source": [
        "tree= DecisionTreeClassifier()"
      ]
    },
    {
      "cell_type": "code",
      "execution_count": null,
      "id": "1084a9e9",
      "metadata": {
        "colab": {
          "base_uri": "https://localhost:8080/"
        },
        "id": "1084a9e9",
        "outputId": "42276000-916c-46a4-9fb4-1ba2707e8982"
      },
      "outputs": [],
      "source": [
        "tree.fit(x_train,encoded_y)"
      ]
    },
    {
      "cell_type": "code",
      "execution_count": null,
      "id": "f7043b2a",
      "metadata": {
        "id": "f7043b2a"
      },
      "outputs": [],
      "source": [
        "ypred2=tree.predict(x_test)"
      ]
    },
    {
      "cell_type": "code",
      "execution_count": null,
      "id": "6da8b27b",
      "metadata": {
        "colab": {
          "base_uri": "https://localhost:8080/"
        },
        "id": "6da8b27b",
        "outputId": "ea9ff497-8995-4e97-9bd1-4f3fcf5038db"
      },
      "outputs": [],
      "source": [
        "encoded_ytest= lbl.fit_transform(y_test)"
      ]
    },
    {
      "cell_type": "code",
      "execution_count": null,
      "id": "be972f54",
      "metadata": {
        "id": "be972f54"
      },
      "outputs": [],
      "source": [
        "tree_conf_matrix = confusion_matrix(encoded_ytest,ypred2 )\n",
        "tree_acc_score = accuracy_score(encoded_ytest, ypred2)"
      ]
    },
    {
      "cell_type": "code",
      "execution_count": null,
      "id": "1d8f0921",
      "metadata": {
        "colab": {
          "base_uri": "https://localhost:8080/"
        },
        "id": "1d8f0921",
        "outputId": "f74e1f7c-d40e-4690-9381-9984a5cf4141"
      },
      "outputs": [],
      "source": [
        "tree_conf_matrix"
      ]
    },
    {
      "cell_type": "code",
      "execution_count": null,
      "id": "31ada390",
      "metadata": {
        "colab": {
          "base_uri": "https://localhost:8080/"
        },
        "id": "31ada390",
        "outputId": "3679ec34-56e4-4c87-f0ed-0efbdedd76e2"
      },
      "outputs": [],
      "source": [
        "print(tree_acc_score*100,\"%\")"
      ]
    },
    {
      "cell_type": "markdown",
      "id": "f4760e8d",
      "metadata": {
        "id": "f4760e8d"
      },
      "source": [
        "#### As we see our Decision Tree Model does not perform well as it gives a score of only 69%"
      ]
    },
    {
      "cell_type": "markdown",
      "id": "f1ba55f8",
      "metadata": {
        "id": "f1ba55f8"
      },
      "source": [
        "### Random Forest"
      ]
    },
    {
      "cell_type": "code",
      "execution_count": null,
      "id": "b8b06ba3",
      "metadata": {
        "id": "b8b06ba3"
      },
      "outputs": [],
      "source": [
        "from sklearn.ensemble import RandomForestClassifier"
      ]
    },
    {
      "cell_type": "code",
      "execution_count": null,
      "id": "59c848ba",
      "metadata": {
        "id": "59c848ba"
      },
      "outputs": [],
      "source": [
        "rf= RandomForestClassifier()"
      ]
    },
    {
      "cell_type": "code",
      "execution_count": null,
      "id": "4f759f57",
      "metadata": {
        "colab": {
          "base_uri": "https://localhost:8080/"
        },
        "id": "4f759f57",
        "outputId": "ea2629d8-021c-4a5b-a59a-69adda9bbb8c"
      },
      "outputs": [],
      "source": [
        "rf.fit(x_train,encoded_y)"
      ]
    },
    {
      "cell_type": "code",
      "execution_count": null,
      "id": "84ce0c9b",
      "metadata": {
        "id": "84ce0c9b"
      },
      "outputs": [],
      "source": [
        "ypred3 = rf.predict(x_test)"
      ]
    },
    {
      "cell_type": "code",
      "execution_count": null,
      "id": "54a9d9c1",
      "metadata": {
        "id": "54a9d9c1"
      },
      "outputs": [],
      "source": [
        "rf_conf_matrix = confusion_matrix(encoded_ytest,ypred3 )\n",
        "rf_acc_score = accuracy_score(encoded_ytest, ypred3)"
      ]
    },
    {
      "cell_type": "code",
      "execution_count": null,
      "id": "87743b4a",
      "metadata": {
        "colab": {
          "base_uri": "https://localhost:8080/"
        },
        "id": "87743b4a",
        "outputId": "7451dda4-79d4-41e5-bb18-f7e3f8f229e6"
      },
      "outputs": [],
      "source": [
        "rf_conf_matrix"
      ]
    },
    {
      "cell_type": "code",
      "execution_count": null,
      "id": "c979134b",
      "metadata": {
        "colab": {
          "base_uri": "https://localhost:8080/"
        },
        "id": "c979134b",
        "outputId": "9141f262-4e3e-47d1-972f-2ecf76b2b4cb"
      },
      "outputs": [],
      "source": [
        "print(rf_acc_score*100,\"%\")"
      ]
    },
    {
      "cell_type": "markdown",
      "id": "76198812",
      "metadata": {
        "id": "76198812"
      },
      "source": [
        "#### RF also gives us an accuracy of around 80%"
      ]
    },
    {
      "cell_type": "markdown",
      "id": "1ee91d80",
      "metadata": {
        "id": "1ee91d80"
      },
      "source": [
        "### K Nearest Neighbour"
      ]
    },
    {
      "cell_type": "markdown",
      "id": "62110010",
      "metadata": {
        "id": "62110010"
      },
      "source": [
        "#### We have to select what k we will use for the maximum accuracy\n",
        "#### Let's write a function for it"
      ]
    },
    {
      "cell_type": "code",
      "execution_count": null,
      "id": "4ff541b0",
      "metadata": {
        "id": "4ff541b0"
      },
      "outputs": [],
      "source": [
        "from sklearn.neighbors import KNeighborsClassifier"
      ]
    },
    {
      "cell_type": "code",
      "execution_count": null,
      "id": "65870660",
      "metadata": {
        "id": "65870660"
      },
      "outputs": [],
      "source": [
        "error_rate= []\n",
        "for i in range(1,40):\n",
        "    knn= KNeighborsClassifier(n_neighbors=i)\n",
        "    knn.fit(x_train,encoded_y)\n",
        "    pred= knn.predict(x_test)\n",
        "    error_rate.append(np.mean(pred != encoded_ytest))"
      ]
    },
    {
      "cell_type": "code",
      "execution_count": null,
      "id": "42ae2788",
      "metadata": {
        "colab": {
          "base_uri": "https://localhost:8080/",
          "height": 404
        },
        "id": "42ae2788",
        "outputId": "4f864d85-2763-439c-ab3b-5311e265bf3c"
      },
      "outputs": [],
      "source": [
        "plt.figure(figsize=(10,6))\n",
        "plt.plot(range(1,40),error_rate,color='blue', linestyle='dashed', marker='o',\n",
        "         markerfacecolor='red', markersize=10)\n",
        "plt.xlabel('K Vlaue')\n",
        "plt.ylabel('Error rate')\n",
        "plt.title('To check the correct value of k')\n",
        "plt.show()"
      ]
    },
    {
      "cell_type": "markdown",
      "id": "772a7790",
      "metadata": {
        "id": "772a7790"
      },
      "source": [
        "#### As we see from the graph we should select K= 12 as it gives the best error rate"
      ]
    },
    {
      "cell_type": "code",
      "execution_count": null,
      "id": "b8a69b74",
      "metadata": {
        "id": "b8a69b74"
      },
      "outputs": [],
      "source": [
        "knn= KNeighborsClassifier(n_neighbors=12)\n",
        "knn.fit(x_train,encoded_y)\n",
        "ypred4= knn.predict(x_test)\n"
      ]
    },
    {
      "cell_type": "code",
      "execution_count": null,
      "id": "0b703d53",
      "metadata": {
        "id": "0b703d53"
      },
      "outputs": [],
      "source": [
        "knn_conf_matrix = confusion_matrix(encoded_ytest,ypred4 )\n",
        "knn_acc_score = accuracy_score(encoded_ytest, ypred4)"
      ]
    },
    {
      "cell_type": "code",
      "execution_count": null,
      "id": "4b06cc63",
      "metadata": {
        "colab": {
          "base_uri": "https://localhost:8080/"
        },
        "id": "4b06cc63",
        "outputId": "91960d08-9f0d-4468-dfd1-cc9074ed3288"
      },
      "outputs": [],
      "source": [
        "knn_conf_matrix"
      ]
    },
    {
      "cell_type": "code",
      "execution_count": null,
      "id": "2cf67bb7",
      "metadata": {
        "colab": {
          "base_uri": "https://localhost:8080/"
        },
        "id": "2cf67bb7",
        "outputId": "8c091453-0f6f-4b81-e1a5-1a2c51d6dc70"
      },
      "outputs": [],
      "source": [
        "print(knn_acc_score*100,\"%\")"
      ]
    },
    {
      "cell_type": "markdown",
      "id": "39fe4f60",
      "metadata": {
        "id": "39fe4f60"
      },
      "source": [
        "#### As we see KNN gives us an accuracy of around 85% which is good"
      ]
    },
    {
      "cell_type": "markdown",
      "id": "858e4cc1",
      "metadata": {
        "id": "858e4cc1"
      },
      "source": [
        "### Support Vector Machine(SVM)"
      ]
    },
    {
      "cell_type": "code",
      "execution_count": null,
      "id": "aeec58fa",
      "metadata": {
        "id": "aeec58fa"
      },
      "outputs": [],
      "source": [
        "from sklearn import svm"
      ]
    },
    {
      "cell_type": "code",
      "execution_count": null,
      "id": "4570391e",
      "metadata": {
        "id": "4570391e"
      },
      "outputs": [],
      "source": [
        "svm= svm.SVC()"
      ]
    },
    {
      "cell_type": "code",
      "execution_count": null,
      "id": "f5c939ff",
      "metadata": {
        "colab": {
          "base_uri": "https://localhost:8080/"
        },
        "id": "f5c939ff",
        "outputId": "d37aa452-90e5-4ab1-adda-8ddcf9763b87"
      },
      "outputs": [],
      "source": [
        "svm.fit(x_train,encoded_y)"
      ]
    },
    {
      "cell_type": "code",
      "execution_count": null,
      "id": "e42dfbeb",
      "metadata": {
        "id": "e42dfbeb"
      },
      "outputs": [],
      "source": [
        "ypred5= svm.predict(x_test)"
      ]
    },
    {
      "cell_type": "code",
      "execution_count": null,
      "id": "1b5742fb",
      "metadata": {
        "id": "1b5742fb"
      },
      "outputs": [],
      "source": [
        "svm_conf_matrix = confusion_matrix(encoded_ytest,ypred5)\n",
        "svm_acc_score = accuracy_score(encoded_ytest, ypred5)"
      ]
    },
    {
      "cell_type": "code",
      "execution_count": null,
      "id": "44445d24",
      "metadata": {
        "colab": {
          "base_uri": "https://localhost:8080/"
        },
        "id": "44445d24",
        "outputId": "d48cf528-7910-4434-db09-23f95bc66686"
      },
      "outputs": [],
      "source": [
        "svm_conf_matrix"
      ]
    },
    {
      "cell_type": "code",
      "execution_count": null,
      "id": "9d0f7014",
      "metadata": {
        "colab": {
          "base_uri": "https://localhost:8080/"
        },
        "id": "9d0f7014",
        "outputId": "ba4500e6-98fc-40a0-9d56-f30a3e603986"
      },
      "outputs": [],
      "source": [
        "print(svm_acc_score*100,\"%\")"
      ]
    },
    {
      "cell_type": "markdown",
      "id": "9ac104d5",
      "metadata": {
        "id": "9ac104d5"
      },
      "source": [
        "#### We get an accuracy of 80% in SVM"
      ]
    },
    {
      "cell_type": "markdown",
      "id": "28be6aca",
      "metadata": {
        "id": "28be6aca"
      },
      "source": [
        "#### Let us see our model accuracy in Table form"
      ]
    },
    {
      "cell_type": "code",
      "execution_count": null,
      "id": "2cfd8dbc",
      "metadata": {
        "id": "2cfd8dbc"
      },
      "outputs": [],
      "source": [
        "model_acc= pd.DataFrame({'Model' : ['Logistic Regression','Decision Tree','Random Forest','K Nearest Neighbor','SVM'],'Accuracy' : [lr_acc_score*100,tree_acc_score*100,rf_acc_score*100,knn_acc_score*100,svm_acc_score*100]})"
      ]
    },
    {
      "cell_type": "code",
      "execution_count": null,
      "id": "ae189506",
      "metadata": {
        "id": "ae189506"
      },
      "outputs": [],
      "source": [
        "model_acc = model_acc.sort_values(by=['Accuracy'],ascending=False)"
      ]
    },
    {
      "cell_type": "code",
      "execution_count": null,
      "id": "5ad7e0bd",
      "metadata": {
        "colab": {
          "base_uri": "https://localhost:8080/",
          "height": 203
        },
        "id": "5ad7e0bd",
        "outputId": "7c9069cf-a7e7-4434-8178-c592c11b0b58"
      },
      "outputs": [],
      "source": [
        "model_acc"
      ]
    },
    {
      "cell_type": "markdown",
      "id": "810f1fb1",
      "metadata": {
        "id": "810f1fb1"
      },
      "source": [
        "#### Let us use one more Techniques known as Adaboost, this is a Boosting technique which uses multiple models for better accuracy."
      ]
    },
    {
      "cell_type": "markdown",
      "id": "6c28fd11",
      "metadata": {
        "id": "6c28fd11"
      },
      "source": [
        "### Adaboost  Classifier"
      ]
    },
    {
      "cell_type": "markdown",
      "id": "54e50822",
      "metadata": {
        "id": "54e50822"
      },
      "source": [
        "#### Let us first use some random parameters for training the model without Hypertuning."
      ]
    },
    {
      "cell_type": "code",
      "execution_count": null,
      "id": "7da63767",
      "metadata": {
        "id": "7da63767"
      },
      "outputs": [],
      "source": [
        "from sklearn.ensemble import AdaBoostClassifier"
      ]
    },
    {
      "cell_type": "code",
      "execution_count": null,
      "id": "12cd0f5f",
      "metadata": {
        "id": "12cd0f5f"
      },
      "outputs": [],
      "source": [
        "adab = AdaBoostClassifier(n_estimators=100, algorithm='SAMME', learning_rate=0.01, random_state=0)\n"
      ]
    },
    {
      "cell_type": "code",
      "execution_count": null,
      "id": "14eb4f33",
      "metadata": {
        "colab": {
          "base_uri": "https://localhost:8080/"
        },
        "id": "14eb4f33",
        "outputId": "2112da90-24f5-4576-9606-633c9612c9c4"
      },
      "outputs": [],
      "source": [
        "adab.fit(x_train,encoded_y)"
      ]
    },
    {
      "cell_type": "code",
      "execution_count": null,
      "id": "9118148c",
      "metadata": {
        "id": "9118148c"
      },
      "outputs": [],
      "source": [
        "ypred6=adab.predict(x_test)"
      ]
    },
    {
      "cell_type": "code",
      "execution_count": null,
      "id": "0d354c44",
      "metadata": {
        "id": "0d354c44"
      },
      "outputs": [],
      "source": [
        "adab_conf_matrix = confusion_matrix(encoded_ytest,ypred6)\n",
        "adab_acc_score = accuracy_score(encoded_ytest, ypred6)"
      ]
    },
    {
      "cell_type": "code",
      "execution_count": null,
      "id": "6f1b8459",
      "metadata": {
        "colab": {
          "base_uri": "https://localhost:8080/"
        },
        "id": "6f1b8459",
        "outputId": "f40babe0-b27c-4bd5-f123-85915fda3385"
      },
      "outputs": [],
      "source": [
        "adab_conf_matrix"
      ]
    },
    {
      "cell_type": "code",
      "execution_count": null,
      "id": "3f9920f3",
      "metadata": {
        "colab": {
          "base_uri": "https://localhost:8080/"
        },
        "id": "3f9920f3",
        "outputId": "623f3f38-176a-4e7f-8352-86bf1b038613"
      },
      "outputs": [],
      "source": [
        "print(adab_acc_score*100,\"%\")"
      ]
    },
    {
      "cell_type": "code",
      "execution_count": null,
      "id": "68f2c9ba",
      "metadata": {
        "colab": {
          "base_uri": "https://localhost:8080/"
        },
        "id": "68f2c9ba",
        "outputId": "54038e9b-1259-42f2-d428-ae82b8d828fd"
      },
      "outputs": [],
      "source": [
        "adab.score(x_train,encoded_y)"
      ]
    },
    {
      "cell_type": "code",
      "execution_count": null,
      "id": "68616ec5",
      "metadata": {
        "colab": {
          "base_uri": "https://localhost:8080/"
        },
        "id": "68616ec5",
        "outputId": "bc3e8997-9b93-4fc5-deb7-47e20f980602"
      },
      "outputs": [],
      "source": [
        "adab.score(x_test,encoded_ytest)"
      ]
    },
    {
      "cell_type": "markdown",
      "id": "7738dab8",
      "metadata": {
        "id": "7738dab8"
      },
      "source": [
        "#### As we see our model has performed very poorly with just 50% accuracy "
      ]
    },
    {
      "cell_type": "markdown",
      "id": "7056e4f2",
      "metadata": {
        "id": "7056e4f2"
      },
      "source": [
        "#### We will use Grid Seach CV for HyperParameter Tuning"
      ]
    },
    {
      "cell_type": "markdown",
      "id": "ac36a040",
      "metadata": {
        "id": "ac36a040"
      },
      "source": [
        "### Grid Search CV"
      ]
    },
    {
      "cell_type": "markdown",
      "id": "d27ba9c6",
      "metadata": {
        "id": "d27ba9c6"
      },
      "source": [
        "#### Let us try Grid Search CV for our top 3 performing Algorithms for HyperParameter tuning"
      ]
    },
    {
      "cell_type": "code",
      "execution_count": null,
      "id": "3de43b46",
      "metadata": {
        "id": "3de43b46"
      },
      "outputs": [],
      "source": [
        "from sklearn.model_selection import GridSearchCV"
      ]
    },
    {
      "cell_type": "code",
      "execution_count": null,
      "id": "bb7e45c2",
      "metadata": {
        "colab": {
          "base_uri": "https://localhost:8080/",
          "height": 203
        },
        "id": "bb7e45c2",
        "outputId": "814e185a-345a-4d49-a3d1-cde1695e15dd"
      },
      "outputs": [],
      "source": [
        "model_acc"
      ]
    },
    {
      "cell_type": "markdown",
      "id": "821b84c9",
      "metadata": {
        "id": "821b84c9"
      },
      "source": [
        "### Logistic Regression"
      ]
    },
    {
      "cell_type": "code",
      "execution_count": null,
      "id": "9aaf5890",
      "metadata": {
        "id": "9aaf5890"
      },
      "outputs": [],
      "source": [
        "param_grid= {\n",
        "    \n",
        "    'solver': ['newton-cg', 'lbfgs', 'liblinear','sag', 'saga'],\n",
        "    'penalty' : ['none', 'l1', 'l2', 'elasticnet'],\n",
        "    'C' : [100, 10, 1.0, 0.1, 0.01]\n",
        "    \n",
        "}"
      ]
    },
    {
      "cell_type": "code",
      "execution_count": null,
      "id": "fea8f304",
      "metadata": {
        "id": "fea8f304"
      },
      "outputs": [],
      "source": [
        "grid1= GridSearchCV(LogisticRegression(),param_grid)"
      ]
    },
    {
      "cell_type": "code",
      "execution_count": null,
      "id": "e9fb6d65",
      "metadata": {
        "colab": {
          "base_uri": "https://localhost:8080/"
        },
        "id": "e9fb6d65",
        "outputId": "125bffbc-ef47-472c-e56a-b18f02a85d38"
      },
      "outputs": [],
      "source": [
        "grid1.fit(x_train,encoded_y)"
      ]
    },
    {
      "cell_type": "code",
      "execution_count": null,
      "id": "42620a59",
      "metadata": {
        "colab": {
          "base_uri": "https://localhost:8080/"
        },
        "id": "42620a59",
        "outputId": "5ed83a22-1ad5-45c0-f13a-52ed3327f845"
      },
      "outputs": [],
      "source": [
        "grid1.best_params_"
      ]
    },
    {
      "cell_type": "markdown",
      "id": "e1a09eeb",
      "metadata": {
        "id": "e1a09eeb"
      },
      "source": [
        "#### Let us apply these para in our Model"
      ]
    },
    {
      "cell_type": "code",
      "execution_count": null,
      "id": "31518d71",
      "metadata": {
        "id": "31518d71"
      },
      "outputs": [],
      "source": [
        "logreg1= LogisticRegression(C=0.01,penalty='l2',solver='liblinear')"
      ]
    },
    {
      "cell_type": "code",
      "execution_count": null,
      "id": "f5e0b331",
      "metadata": {
        "colab": {
          "base_uri": "https://localhost:8080/"
        },
        "id": "f5e0b331",
        "outputId": "4a7fb86f-6483-4029-d601-10533686e196"
      },
      "outputs": [],
      "source": [
        "logreg1.fit(x_train,encoded_y)"
      ]
    },
    {
      "cell_type": "code",
      "execution_count": null,
      "id": "55e71229",
      "metadata": {
        "id": "55e71229"
      },
      "outputs": [],
      "source": [
        "logreg_pred= logreg1.predict(x_test)"
      ]
    },
    {
      "cell_type": "code",
      "execution_count": null,
      "id": "17f962b5",
      "metadata": {
        "id": "17f962b5"
      },
      "outputs": [],
      "source": [
        "logreg_pred_conf_matrix = confusion_matrix(encoded_ytest,logreg_pred)\n",
        "logreg_pred_acc_score = accuracy_score(encoded_ytest, logreg_pred)"
      ]
    },
    {
      "cell_type": "code",
      "execution_count": null,
      "id": "e3695a54",
      "metadata": {
        "colab": {
          "base_uri": "https://localhost:8080/"
        },
        "id": "e3695a54",
        "outputId": "f5f1b97d-c43b-4b8e-e2e2-351989a35eec"
      },
      "outputs": [],
      "source": [
        "logreg_pred_conf_matrix"
      ]
    },
    {
      "cell_type": "code",
      "execution_count": null,
      "id": "35e7af19",
      "metadata": {
        "colab": {
          "base_uri": "https://localhost:8080/"
        },
        "id": "35e7af19",
        "outputId": "7ede5731-2732-468c-d02d-095ba9e1e18d"
      },
      "outputs": [],
      "source": [
        "print(logreg_pred_acc_score*100,\"%\")"
      ]
    },
    {
      "cell_type": "markdown",
      "id": "53e36955",
      "metadata": {
        "id": "53e36955"
      },
      "source": [
        "#### We got an accuracy of 81%"
      ]
    },
    {
      "cell_type": "markdown",
      "id": "da242c28",
      "metadata": {
        "id": "da242c28"
      },
      "source": [
        "### KNN"
      ]
    },
    {
      "cell_type": "code",
      "execution_count": null,
      "id": "d2298a31",
      "metadata": {
        "id": "d2298a31"
      },
      "outputs": [],
      "source": [
        "n_neighbors = range(1, 21, 2)\n",
        "weights = ['uniform', 'distance']\n",
        "metric = ['euclidean', 'manhattan', 'minkowski']"
      ]
    },
    {
      "cell_type": "code",
      "execution_count": null,
      "id": "055fead3",
      "metadata": {
        "id": "055fead3"
      },
      "outputs": [],
      "source": [
        "grid = dict(n_neighbors=n_neighbors,weights=weights,metric=metric)"
      ]
    },
    {
      "cell_type": "code",
      "execution_count": null,
      "id": "8016423c",
      "metadata": {
        "id": "8016423c"
      },
      "outputs": [],
      "source": [
        "from sklearn.model_selection import RepeatedStratifiedKFold"
      ]
    },
    {
      "cell_type": "code",
      "execution_count": null,
      "id": "c2dcbc97",
      "metadata": {
        "id": "c2dcbc97"
      },
      "outputs": [],
      "source": [
        "cv = RepeatedStratifiedKFold(n_splits=10, n_repeats=3, random_state=1)"
      ]
    },
    {
      "cell_type": "code",
      "execution_count": null,
      "id": "ade95727",
      "metadata": {
        "id": "ade95727"
      },
      "outputs": [],
      "source": [
        "grid_search = GridSearchCV(estimator=knn, param_grid=grid, n_jobs=-1, cv=cv, scoring='accuracy',error_score=0)"
      ]
    },
    {
      "cell_type": "code",
      "execution_count": null,
      "id": "67ea4855",
      "metadata": {
        "colab": {
          "base_uri": "https://localhost:8080/"
        },
        "id": "67ea4855",
        "outputId": "62f0204a-c8ac-48e8-af71-3a0a55dfcb74"
      },
      "outputs": [],
      "source": [
        "grid_search.fit(x_train,encoded_y)"
      ]
    },
    {
      "cell_type": "code",
      "execution_count": null,
      "id": "49c92d8a",
      "metadata": {
        "colab": {
          "base_uri": "https://localhost:8080/"
        },
        "id": "49c92d8a",
        "outputId": "3bb3b16e-6cc9-4d26-ef60-c5ae65177d60"
      },
      "outputs": [],
      "source": [
        "grid_search.best_params_"
      ]
    },
    {
      "cell_type": "markdown",
      "id": "5911dbaf",
      "metadata": {
        "id": "5911dbaf"
      },
      "source": [
        "#### Let's apply"
      ]
    },
    {
      "cell_type": "code",
      "execution_count": null,
      "id": "38d13733",
      "metadata": {},
      "outputs": [],
      "source": []
    },
    {
      "cell_type": "code",
      "execution_count": null,
      "id": "ffce7654",
      "metadata": {
        "id": "ffce7654"
      },
      "outputs": [],
      "source": [
        "knn= KNeighborsClassifier(n_neighbors=12,metric='manhattan',weights='distance')\n",
        "knn.fit(x_train,encoded_y)\n",
        "knn_pred= knn.predict(x_test)"
      ]
    },
    {
      "cell_type": "code",
      "execution_count": null,
      "id": "0b22b9ae",
      "metadata": {
        "id": "0b22b9ae"
      },
      "outputs": [],
      "source": [
        "knn_pred_conf_matrix = confusion_matrix(encoded_ytest,knn_pred)\n",
        "knn_pred_acc_score = accuracy_score(encoded_ytest, knn_pred)"
      ]
    },
    {
      "cell_type": "code",
      "execution_count": null,
      "id": "378127a2",
      "metadata": {
        "colab": {
          "base_uri": "https://localhost:8080/"
        },
        "id": "378127a2",
        "outputId": "a081788f-73a5-4fd1-cf52-fad2de5a96fa"
      },
      "outputs": [],
      "source": [
        "knn_pred_conf_matrix"
      ]
    },
    {
      "cell_type": "code",
      "execution_count": null,
      "id": "e6fa0676",
      "metadata": {
        "colab": {
          "base_uri": "https://localhost:8080/"
        },
        "id": "e6fa0676",
        "outputId": "357d08fa-9f58-43ec-f2a8-26cc4d840bd2"
      },
      "outputs": [],
      "source": [
        "print(knn_pred_acc_score*100,\"%\")"
      ]
    },
    {
      "cell_type": "markdown",
      "id": "e2b7fc19",
      "metadata": {
        "id": "e2b7fc19"
      },
      "source": [
        "#### We have an Accuracy of 82.5%"
      ]
    },
    {
      "cell_type": "markdown",
      "id": "aed9b3fe",
      "metadata": {
        "id": "aed9b3fe"
      },
      "source": [
        "### SVM"
      ]
    },
    {
      "cell_type": "code",
      "execution_count": null,
      "id": "0cf439b2",
      "metadata": {
        "id": "0cf439b2"
      },
      "outputs": [],
      "source": [
        "\n",
        "kernel = ['poly', 'rbf', 'sigmoid']\n",
        "C = [50, 10, 1.0, 0.1, 0.01]\n",
        "gamma = ['scale']"
      ]
    },
    {
      "cell_type": "code",
      "execution_count": null,
      "id": "77bad1f1",
      "metadata": {
        "id": "77bad1f1"
      },
      "outputs": [],
      "source": [
        "grid = dict(kernel=kernel,C=C,gamma=gamma)\n",
        "cv = RepeatedStratifiedKFold(n_splits=10, n_repeats=3, random_state=1)\n",
        "grid_search = GridSearchCV(estimator=svm, param_grid=grid, n_jobs=-1, cv=cv, scoring='accuracy',error_score=0)"
      ]
    },
    {
      "cell_type": "code",
      "execution_count": null,
      "id": "981d60a1",
      "metadata": {
        "colab": {
          "base_uri": "https://localhost:8080/"
        },
        "id": "981d60a1",
        "outputId": "f7945508-9e2f-4ac2-b0f4-da48afb7834a"
      },
      "outputs": [],
      "source": [
        "grid_search.fit(x_train,encoded_y)"
      ]
    },
    {
      "cell_type": "code",
      "execution_count": null,
      "id": "f034a948",
      "metadata": {
        "colab": {
          "base_uri": "https://localhost:8080/"
        },
        "id": "f034a948",
        "outputId": "7ce1dd90-365e-40cf-82f9-ad977126f5a7"
      },
      "outputs": [],
      "source": [
        "grid_search.best_params_"
      ]
    },
    {
      "cell_type": "markdown",
      "id": "f9c82fd9",
      "metadata": {
        "id": "f9c82fd9"
      },
      "source": [
        "#### Let us apply these"
      ]
    },
    {
      "cell_type": "code",
      "execution_count": null,
      "id": "PO0K0nnsOSNQ",
      "metadata": {
        "id": "PO0K0nnsOSNQ"
      },
      "outputs": [],
      "source": [
        "from sklearn.svm import SVC"
      ]
    },
    {
      "cell_type": "code",
      "execution_count": null,
      "id": "c659a637",
      "metadata": {
        "id": "c659a637"
      },
      "outputs": [],
      "source": [
        "svc= SVC(C= 0.1, gamma= 'scale',kernel= 'sigmoid')"
      ]
    },
    {
      "cell_type": "code",
      "execution_count": null,
      "id": "06238abe",
      "metadata": {
        "colab": {
          "base_uri": "https://localhost:8080/"
        },
        "id": "06238abe",
        "outputId": "705be280-9e19-4679-f2d3-2fa2f93aa83a"
      },
      "outputs": [],
      "source": [
        "svc.fit(x_train,encoded_y)"
      ]
    },
    {
      "cell_type": "code",
      "execution_count": null,
      "id": "c190a33a",
      "metadata": {
        "id": "c190a33a"
      },
      "outputs": [],
      "source": [
        "svm_pred= svc.predict(x_test)"
      ]
    },
    {
      "cell_type": "code",
      "execution_count": null,
      "id": "9d6a0832",
      "metadata": {
        "id": "9d6a0832"
      },
      "outputs": [],
      "source": [
        "svm_pred_conf_matrix = confusion_matrix(encoded_ytest,svm_pred)\n",
        "svm_pred_acc_score = accuracy_score(encoded_ytest, svm_pred)"
      ]
    },
    {
      "cell_type": "code",
      "execution_count": null,
      "id": "fcff6b3f",
      "metadata": {
        "colab": {
          "base_uri": "https://localhost:8080/"
        },
        "id": "fcff6b3f",
        "outputId": "e33280bf-6506-4e13-b672-94b155f941cc"
      },
      "outputs": [],
      "source": [
        "svm_pred_conf_matrix"
      ]
    },
    {
      "cell_type": "code",
      "execution_count": null,
      "id": "46565aa3",
      "metadata": {
        "colab": {
          "base_uri": "https://localhost:8080/"
        },
        "id": "46565aa3",
        "outputId": "e5fb2109-2721-454f-9ba8-880b8e08d136"
      },
      "outputs": [],
      "source": [
        "print(svm_pred_acc_score*100,\"%\")"
      ]
    },
    {
      "cell_type": "markdown",
      "id": "5a233fd3",
      "metadata": {
        "id": "5a233fd3"
      },
      "source": [
        "#### Accuracy is 81%"
      ]
    },
    {
      "cell_type": "markdown",
      "id": "46ad2035",
      "metadata": {
        "id": "46ad2035"
      },
      "source": [
        "## Final Verdict"
      ]
    },
    {
      "cell_type": "markdown",
      "id": "c15249fb",
      "metadata": {
        "id": "c15249fb"
      },
      "source": [
        "#### After comparing all the models the best performing model is :\n",
        "### Logistic Regression with no Hyperparameter tuning"
      ]
    },
    {
      "cell_type": "code",
      "execution_count": null,
      "id": "53ee451c",
      "metadata": {
        "colab": {
          "base_uri": "https://localhost:8080/"
        },
        "id": "53ee451c",
        "outputId": "074fbbba-f33c-48cb-b6f7-ccd1cf7b3f77"
      },
      "outputs": [],
      "source": [
        "logreg= LogisticRegression()\n",
        "logreg = LogisticRegression()\n",
        "logreg.fit(x_train, encoded_y)"
      ]
    },
    {
      "cell_type": "code",
      "execution_count": null,
      "id": "fd908d51",
      "metadata": {
        "colab": {
          "base_uri": "https://localhost:8080/"
        },
        "id": "fd908d51",
        "outputId": "8ad42013-efb5-43ec-94c5-3bbf2218926e"
      },
      "outputs": [],
      "source": [
        "Y_pred1"
      ]
    },
    {
      "cell_type": "code",
      "execution_count": null,
      "id": "ddb705ae",
      "metadata": {
        "colab": {
          "base_uri": "https://localhost:8080/"
        },
        "id": "ddb705ae",
        "outputId": "61145786-9255-4e35-c3a7-1ecd14c73d08"
      },
      "outputs": [],
      "source": [
        "lr_conf_matrix"
      ]
    },
    {
      "cell_type": "code",
      "execution_count": null,
      "id": "379cda3d",
      "metadata": {
        "colab": {
          "base_uri": "https://localhost:8080/"
        },
        "id": "379cda3d",
        "outputId": "ef2b5f3d-6200-474f-a5b8-c55996cf11d7"
      },
      "outputs": [],
      "source": [
        "print(lr_acc_score*100,\"%\")"
      ]
    },
    {
      "cell_type": "markdown",
      "id": "a7d2a257",
      "metadata": {
        "id": "a7d2a257"
      },
      "source": [
        "#### Let us build a proper confusion matrix for our model"
      ]
    },
    {
      "cell_type": "code",
      "execution_count": null,
      "id": "89c4d5f7",
      "metadata": {
        "colab": {
          "base_uri": "https://localhost:8080/",
          "height": 328
        },
        "id": "89c4d5f7",
        "outputId": "15433c30-a567-4fd4-bbda-bd1b78d5c55b"
      },
      "outputs": [],
      "source": [
        "# Confusion Matrix of  Model enlarged\n",
        "options = [\"Disease\", 'No Disease']\n",
        "\n",
        "fig, ax = plt.subplots()\n",
        "im = ax.imshow(lr_conf_matrix, cmap= 'Set3', interpolation='nearest')\n",
        "\n",
        "# We want to show all ticks...\n",
        "ax.set_xticks(np.arange(len(options)))\n",
        "ax.set_yticks(np.arange(len(options)))\n",
        "# ... and label them with the respective list entries\n",
        "ax.set_xticklabels(options)\n",
        "ax.set_yticklabels(options)\n",
        "\n",
        "# Rotate the tick labels and set their alignment.\n",
        "plt.setp(ax.get_xticklabels(), rotation=45, ha=\"right\",\n",
        "         rotation_mode=\"anchor\")\n",
        "\n",
        "# Loop over data dimensions and create text annotations.\n",
        "for i in range(len(options)):\n",
        "    for j in range(len(options)):\n",
        "        text = ax.text(j, i, lr_conf_matrix[i, j],\n",
        "                       ha=\"center\", va=\"center\", color=\"black\")\n",
        "\n",
        "ax.set_title(\"Confusion Matrix of Logistic Regression Model\")\n",
        "fig.tight_layout()\n",
        "plt.xlabel('Model Prediction')\n",
        "plt.ylabel('Actual Result')\n",
        "plt.show()\n",
        "print(\"ACCURACY of our model is \",lr_acc_score*100,\"%\")"
      ]
    },
    {
      "cell_type": "markdown",
      "id": "4b73a599",
      "metadata": {
        "id": "4b73a599"
      },
      "source": [
        "## We have succesfully made our model which predicts weather a person is having a risk of Heart Disease or not with 85.7% accuracy"
      ]
    },
    {
      "cell_type": "code",
      "execution_count": null,
      "id": "576f0acf",
      "metadata": {
        "id": "576f0acf"
      },
      "outputs": [],
      "source": [
        "import pickle"
      ]
    },
    {
      "cell_type": "code",
      "execution_count": null,
      "id": "7e73010c",
      "metadata": {
        "id": "7e73010c"
      },
      "outputs": [],
      "source": [
        "pickle.dump(logreg,open('heart.pkl','wb'))"
      ]
    },
    {
      "cell_type": "markdown",
      "id": "V9HTzMnRZmGo",
      "metadata": {
        "id": "V9HTzMnRZmGo"
      },
      "source": [
        "# **Using Auto ML**"
      ]
    },
    {
      "cell_type": "markdown",
      "id": "3fd14618",
      "metadata": {
        "id": "3fd14618"
      },
      "source": [
        "\n",
        "# EVAL ML : ![64432Screenshot (645).png](data:image/png;base64,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)\n",
        "### EvalML is an open-source AutoML library written in python that automates a large part of the machine learning process and we can easily evaluate which machine learning pipeline works better for the given set of data.\n",
        "\n",
        "\n",
        "\n"
      ]
    },
    {
      "cell_type": "markdown",
      "id": "589ba375",
      "metadata": {
        "id": "589ba375"
      },
      "source": [
        "## Installing Eval ML"
      ]
    },
    {
      "cell_type": "code",
      "execution_count": null,
      "id": "03b25dab",
      "metadata": {
        "colab": {
          "base_uri": "https://localhost:8080/",
          "height": 1000
        },
        "id": "03b25dab",
        "outputId": "25bf21b3-0754-4c26-d3f4-7cfb6ad66b41"
      },
      "outputs": [],
      "source": [
        "%pip install evalml "
      ]
    },
    {
      "cell_type": "markdown",
      "id": "OaIQpOrSQNeJ",
      "metadata": {
        "id": "OaIQpOrSQNeJ"
      },
      "source": [
        "# Let us load our DataSet."
      ]
    },
    {
      "cell_type": "code",
      "execution_count": null,
      "id": "a9aa9294",
      "metadata": {
        "id": "a9aa9294"
      },
      "outputs": [],
      "source": [
        "df= pd.read_csv(\"./heart.csv\")"
      ]
    },
    {
      "cell_type": "code",
      "execution_count": null,
      "id": "ad672e19",
      "metadata": {
        "colab": {
          "base_uri": "https://localhost:8080/",
          "height": 203
        },
        "id": "ad672e19",
        "outputId": "64672674-0335-4e2d-84d3-fe65025f91a2"
      },
      "outputs": [],
      "source": [
        "df.head()"
      ]
    },
    {
      "cell_type": "markdown",
      "id": "4DqdJmahQwAT",
      "metadata": {
        "id": "4DqdJmahQwAT"
      },
      "source": [
        "Let us split our Data Set into Dependent i.e our Targer variable and independent variable"
      ]
    },
    {
      "cell_type": "code",
      "execution_count": null,
      "id": "g_5E4EYtQu_K",
      "metadata": {
        "colab": {
          "base_uri": "https://localhost:8080/",
          "height": 417
        },
        "id": "g_5E4EYtQu_K",
        "outputId": "a55f5377-c342-43fb-bbe4-46650808239d"
      },
      "outputs": [],
      "source": [
        "x= df.iloc[:,:-1]\n",
        "x"
      ]
    },
    {
      "cell_type": "code",
      "execution_count": null,
      "id": "JALiBgGIVDW7",
      "metadata": {
        "colab": {
          "base_uri": "https://localhost:8080/"
        },
        "id": "JALiBgGIVDW7",
        "outputId": "534be1b4-3a2a-47ae-c1c6-7d4e540d831c"
      },
      "outputs": [],
      "source": [
        "y= df.iloc[:,-1:]\n",
        "y= lbl.fit_transform(y)\n",
        "y"
      ]
    },
    {
      "cell_type": "markdown",
      "id": "NoJlT-8wRhPi",
      "metadata": {
        "id": "NoJlT-8wRhPi"
      },
      "source": [
        "# **Importing Eval ML Library**"
      ]
    },
    {
      "cell_type": "code",
      "execution_count": null,
      "id": "yXueZmVmRK5-",
      "metadata": {
        "id": "yXueZmVmRK5-"
      },
      "outputs": [],
      "source": [
        "import evalml"
      ]
    },
    {
      "cell_type": "markdown",
      "id": "oYTynPPUSBzn",
      "metadata": {
        "id": "oYTynPPUSBzn"
      },
      "source": [
        "Eval ML Library will do all the pre processing techniques for us and split the data for us"
      ]
    },
    {
      "cell_type": "code",
      "execution_count": null,
      "id": "FMWaa8NaRLc8",
      "metadata": {
        "id": "FMWaa8NaRLc8"
      },
      "outputs": [],
      "source": [
        "X_train, X_test, y_train, y_test = evalml.preprocessing.split_data(x, y, problem_type='binary')"
      ]
    },
    {
      "cell_type": "markdown",
      "id": "1X80ucL6S-VA",
      "metadata": {
        "id": "1X80ucL6S-VA"
      },
      "source": [
        "There are different problem type parameters in Eval ML, we have a Binary type problem here, that's why we are using Binary as a input"
      ]
    },
    {
      "cell_type": "code",
      "execution_count": null,
      "id": "juaecBvqRNIO",
      "metadata": {
        "colab": {
          "base_uri": "https://localhost:8080/"
        },
        "id": "juaecBvqRNIO",
        "outputId": "625b62b1-04d7-4fb1-d930-ec44876e01d3"
      },
      "outputs": [],
      "source": [
        "evalml.problem_types.ProblemTypes.all_problem_types"
      ]
    },
    {
      "cell_type": "markdown",
      "id": "jkO8WN3bTSS4",
      "metadata": {
        "id": "jkO8WN3bTSS4"
      },
      "source": [
        "**Running the Auto ML to select best Algorithm**"
      ]
    },
    {
      "cell_type": "code",
      "execution_count": null,
      "id": "VBtvNqdISvU4",
      "metadata": {
        "colab": {
          "base_uri": "https://localhost:8080/",
          "height": 1000,
          "referenced_widgets": [
            "9d605e10c480469c8954d7dc2c8506a2"
          ]
        },
        "id": "VBtvNqdISvU4",
        "outputId": "bc909f3f-34f0-4b98-ce08-5f37b21ef849"
      },
      "outputs": [],
      "source": [
        "from evalml.automl import AutoMLSearch\n",
        "automl = AutoMLSearch(X_train=X_train, y_train=y_train, problem_type='binary')\n",
        "automl.search()"
      ]
    },
    {
      "cell_type": "markdown",
      "id": "Y-yqkRHQVj_N",
      "metadata": {
        "id": "Y-yqkRHQVj_N"
      },
      "source": [
        "As we see from the above output thge Auto ML Classifier has given us the best fit Algorithm which is Extra Trees Classifier with Imputer\n",
        "We can also commpare the rest of the models"
      ]
    },
    {
      "cell_type": "code",
      "execution_count": null,
      "id": "D2viEAbrVx4K",
      "metadata": {
        "colab": {
          "base_uri": "https://localhost:8080/",
          "height": 494
        },
        "id": "D2viEAbrVx4K",
        "outputId": "74e62e18-45c3-4d36-f521-8864ecf81b8f"
      },
      "outputs": [],
      "source": [
        "\n",
        "automl.rankings\n"
      ]
    },
    {
      "cell_type": "code",
      "execution_count": null,
      "id": "yB3uCa0vV_wE",
      "metadata": {
        "colab": {
          "base_uri": "https://localhost:8080/"
        },
        "id": "yB3uCa0vV_wE",
        "outputId": "866178fa-88d1-4e07-9ffe-d65662e0f642"
      },
      "outputs": [],
      "source": [
        "automl.best_pipeline"
      ]
    },
    {
      "cell_type": "code",
      "execution_count": null,
      "id": "iudTbQ9BWIxC",
      "metadata": {
        "id": "iudTbQ9BWIxC"
      },
      "outputs": [],
      "source": [
        "best_pipeline=automl.best_pipeline"
      ]
    },
    {
      "cell_type": "markdown",
      "id": "VRjmM8c5WXL8",
      "metadata": {
        "id": "VRjmM8c5WXL8"
      },
      "source": [
        "We can have a Detailed description of our Best Selected Model"
      ]
    },
    {
      "cell_type": "code",
      "execution_count": null,
      "id": "1CAStOLgWTTt",
      "metadata": {
        "colab": {
          "base_uri": "https://localhost:8080/"
        },
        "id": "1CAStOLgWTTt",
        "outputId": "6dddd962-1261-45d8-a2e4-ecf416bfd2bf"
      },
      "outputs": [],
      "source": [
        "automl.describe_pipeline(automl.rankings.iloc[0][\"id\"])"
      ]
    },
    {
      "cell_type": "code",
      "execution_count": null,
      "id": "_rEhoD_3WeVf",
      "metadata": {
        "colab": {
          "base_uri": "https://localhost:8080/"
        },
        "id": "_rEhoD_3WeVf",
        "outputId": "d40107e0-2858-4eb5-95a9-413ba0a7a6cb"
      },
      "outputs": [],
      "source": [
        "best_pipeline.score(X_test, y_test, objectives=[\"auc\",\"f1\",\"Precision\",\"Recall\"])"
      ]
    },
    {
      "cell_type": "markdown",
      "id": "xh42WqZ6Wx8S",
      "metadata": {
        "id": "xh42WqZ6Wx8S"
      },
      "source": [
        "Now if we want to build our Model for a specific objective we can do that "
      ]
    },
    {
      "cell_type": "code",
      "execution_count": null,
      "id": "qhfjc9HIWmV4",
      "metadata": {
        "colab": {
          "base_uri": "https://localhost:8080/",
          "height": 1000,
          "referenced_widgets": [
            "2ae5f2acc4e2423b8fbfb0d6e97f8506"
          ]
        },
        "id": "qhfjc9HIWmV4",
        "outputId": "b10e13bd-f291-4510-dcfc-207c9abef3be"
      },
      "outputs": [],
      "source": [
        "automl_auc = AutoMLSearch(X_train=X_train, y_train=y_train,problem_type='binary',objective='auc',additional_objectives=['f1', 'precision'],max_batches=1,optimize_thresholds=True)\n",
        "\n",
        "automl_auc.search()"
      ]
    },
    {
      "cell_type": "code",
      "execution_count": null,
      "id": "t_9qjSt-XD6B",
      "metadata": {
        "colab": {
          "base_uri": "https://localhost:8080/",
          "height": 494
        },
        "id": "t_9qjSt-XD6B",
        "outputId": "31357eab-a2a2-4b9f-aa70-a4dc9d317339"
      },
      "outputs": [],
      "source": [
        "automl_auc.rankings"
      ]
    },
    {
      "cell_type": "code",
      "execution_count": null,
      "id": "TH-FlIARXEW-",
      "metadata": {
        "colab": {
          "base_uri": "https://localhost:8080/"
        },
        "id": "TH-FlIARXEW-",
        "outputId": "6229d80a-5991-4ef5-9a06-ff6134add7af"
      },
      "outputs": [],
      "source": [
        "automl_auc.describe_pipeline(automl_auc.rankings.iloc[0][\"id\"])"
      ]
    },
    {
      "cell_type": "code",
      "execution_count": null,
      "id": "b1wGri8TXZeQ",
      "metadata": {
        "id": "b1wGri8TXZeQ"
      },
      "outputs": [],
      "source": [
        "best_pipeline_auc = automl_auc.best_pipeline"
      ]
    },
    {
      "cell_type": "code",
      "execution_count": null,
      "id": "54h-Baa9XK-O",
      "metadata": {
        "colab": {
          "base_uri": "https://localhost:8080/"
        },
        "id": "54h-Baa9XK-O",
        "outputId": "abbd810b-0649-4f01-ab3d-2058a29568ce"
      },
      "outputs": [],
      "source": [
        "\n",
        "# get the score on holdout data\n",
        "best_pipeline_auc.score(X_test, y_test,  objectives=[\"auc\"])"
      ]
    },
    {
      "cell_type": "markdown",
      "id": "Pg7y2nmMXclD",
      "metadata": {
        "id": "Pg7y2nmMXclD"
      },
      "source": [
        "We got an 88.5 % AUC Score which is the highest of all"
      ]
    },
    {
      "cell_type": "markdown",
      "id": "aRxjGGYFXph4",
      "metadata": {
        "id": "aRxjGGYFXph4"
      },
      "source": [
        "Save the model"
      ]
    },
    {
      "cell_type": "code",
      "execution_count": null,
      "id": "w33nw9rdXh8o",
      "metadata": {
        "id": "w33nw9rdXh8o"
      },
      "outputs": [],
      "source": [
        "best_pipeline.save(\"model.pkl\")"
      ]
    },
    {
      "cell_type": "markdown",
      "id": "0Axq_oghX11b",
      "metadata": {
        "id": "0Axq_oghX11b"
      },
      "source": [
        "Loading our Model"
      ]
    },
    {
      "cell_type": "code",
      "execution_count": null,
      "id": "BBoBF8ExX1Xj",
      "metadata": {
        "id": "BBoBF8ExX1Xj"
      },
      "outputs": [],
      "source": [
        "\n",
        "final_model=automl.load('model.pkl')"
      ]
    },
    {
      "cell_type": "code",
      "execution_count": null,
      "id": "KGRC-26vXqyy",
      "metadata": {
        "colab": {
          "base_uri": "https://localhost:8080/",
          "height": 417
        },
        "id": "KGRC-26vXqyy",
        "outputId": "3cacd929-8b89-4d45-c424-fe1d80c049e0"
      },
      "outputs": [],
      "source": [
        "final_model.predict_proba(X_test)"
      ]
    },
    {
      "cell_type": "code",
      "execution_count": null,
      "id": "z9YhBxmqX68S",
      "metadata": {
        "id": "z9YhBxmqX68S"
      },
      "outputs": [],
      "source": []
    }
  ],
  "metadata": {
    "colab": {
      "collapsed_sections": [
        "ba18baf7",
        "6fd43730",
        "963be798",
        "e1489812",
        "f4760e8d",
        "76198812",
        "39fe4f60",
        "9ac104d5",
        "810f1fb1",
        "7738dab8",
        "7056e4f2",
        "53e36955",
        "e2b7fc19",
        "5a233fd3"
      ],
      "name": "Heart Attack Risk Predictor.ipynb",
      "provenance": []
    },
    "kernelspec": {
      "display_name": "Python 3",
      "language": "python",
      "name": "python3"
    },
    "language_info": {
      "codemirror_mode": {
        "name": "ipython",
        "version": 3
      },
      "file_extension": ".py",
      "mimetype": "text/x-python",
      "name": "python",
      "nbconvert_exporter": "python",
      "pygments_lexer": "ipython3",
      "version": "3.12.4"
    },
    "widgets": {
      "application/vnd.jupyter.widget-state+json": {
        "2ae5f2acc4e2423b8fbfb0d6e97f8506": {
          "model_module": "jupyterlab-plotly",
          "model_module_version": "^5.2.1",
          "model_name": "FigureModel",
          "state": {
            "_config": {
              "plotlyServerURL": "https://plot.ly"
            },
            "_data": [
              {
                "mode": "lines+markers",
                "name": "Best Score",
                "type": "scatter",
                "uid": "d623968d-9bdd-469f-acd5-e5d6bb7d3253",
                "x": [],
                "y": []
              },
              {
                "marker": {
                  "color": "gray"
                },
                "mode": "markers",
                "name": "Iter score",
                "type": "scatter",
                "uid": "274f708e-8a83-40a4-8ee7-6434bae6ae66",
                "x": [],
                "y": []
              }
            ],
            "_dom_classes": [],
            "_js2py_layoutDelta": {},
            "_js2py_pointsCallback": {},
            "_js2py_relayout": {},
            "_js2py_restyle": {},
            "_js2py_traceDeltas": {},
            "_js2py_update": {},
            "_last_layout_edit_id": 37,
            "_last_trace_edit_id": 37,
            "_layout": {
              "title": {
                "text": "Pipeline Search: Iteration vs. AUC<br><sub>Gray marker indicates the score at current iteration</sub>"
              },
              "xaxis": {
                "rangemode": "tozero",
                "title": {
                  "text": "Iteration"
                }
              },
              "yaxis": {
                "title": {
                  "text": "Score"
                }
              }
            },
            "_model_module": "jupyterlab-plotly",
            "_model_module_version": "^5.2.1",
            "_model_name": "FigureModel",
            "_py2js_addTraces": {},
            "_py2js_animate": {},
            "_py2js_deleteTraces": {},
            "_py2js_moveTraces": {},
            "_py2js_relayout": null,
            "_py2js_removeLayoutProps": {},
            "_py2js_removeTraceProps": {},
            "_py2js_restyle": null,
            "_py2js_update": null,
            "_view_count": 0,
            "_view_module": "jupyterlab-plotly",
            "_view_module_version": "^5.2.1",
            "_view_name": "FigureView"
          }
        },
        "9d605e10c480469c8954d7dc2c8506a2": {
          "model_module": "jupyterlab-plotly",
          "model_module_version": "^5.2.1",
          "model_name": "FigureModel",
          "state": {
            "_config": {
              "plotlyServerURL": "https://plot.ly"
            },
            "_data": [
              {
                "mode": "lines+markers",
                "name": "Best Score",
                "type": "scatter",
                "uid": "ad36a807-0611-4002-8a95-600b8807d702",
                "x": [],
                "y": []
              },
              {
                "marker": {
                  "color": "gray"
                },
                "mode": "markers",
                "name": "Iter score",
                "type": "scatter",
                "uid": "5f03bb14-a8b8-4964-9a85-b568741c3cc0",
                "x": [],
                "y": []
              }
            ],
            "_dom_classes": [],
            "_js2py_layoutDelta": {},
            "_js2py_pointsCallback": {},
            "_js2py_relayout": {},
            "_js2py_restyle": {},
            "_js2py_traceDeltas": {},
            "_js2py_update": {},
            "_last_layout_edit_id": 37,
            "_last_trace_edit_id": 37,
            "_layout": {
              "title": {
                "text": "Pipeline Search: Iteration vs. Log Loss Binary<br><sub>Gray marker indicates the score at current iteration</sub>"
              },
              "xaxis": {
                "rangemode": "tozero",
                "title": {
                  "text": "Iteration"
                }
              },
              "yaxis": {
                "title": {
                  "text": "Score"
                }
              }
            },
            "_model_module": "jupyterlab-plotly",
            "_model_module_version": "^5.2.1",
            "_model_name": "FigureModel",
            "_py2js_addTraces": {},
            "_py2js_animate": {},
            "_py2js_deleteTraces": {},
            "_py2js_moveTraces": {},
            "_py2js_relayout": null,
            "_py2js_removeLayoutProps": {},
            "_py2js_removeTraceProps": {},
            "_py2js_restyle": null,
            "_py2js_update": null,
            "_view_count": 0,
            "_view_module": "jupyterlab-plotly",
            "_view_module_version": "^5.2.1",
            "_view_name": "FigureView"
          }
        }
      }
    }
  },
  "nbformat": 4,
  "nbformat_minor": 5
}
